{
  "nbformat": 4,
  "nbformat_minor": 0,
  "metadata": {
    "colab": {
      "provenance": [],
      "gpuType": "T4"
    },
    "kernelspec": {
      "name": "python3",
      "display_name": "Python 3"
    },
    "language_info": {
      "name": "python"
    },
    "accelerator": "GPU"
  },
  "cells": [
    {
      "cell_type": "markdown",
      "source": [
        "# Intorduction"
      ],
      "metadata": {
        "id": "yVZ4Y7_z39Pf"
      }
    },
    {
      "cell_type": "markdown",
      "source": [
        "Paper :  https://proceedings.neurips.cc/paper_files/paper/2012/file/c399862d3b9d6b76c8436e924a68c45b-Paper.pdf"
      ],
      "metadata": {
        "id": "CSbFu4JC6vaQ"
      }
    },
    {
      "cell_type": "markdown",
      "source": [
        "- AlexNet is one of the most influential deep learning models in the field of computer vision, primarily known for its success in image classification tasks.\n",
        "- It was created by Alex Krizhevsky, Ilya Sutskever, and Geoffrey Hinton, who were associated with the University of Toronto. The paper introducing AlexNet, titled \"ImageNet Classification with Deep Convolutional Neural Networks,\" was published in 2012.\n",
        "- AlexNet was designed for large-scale image classification and won the 2012 ImageNet Large Scale Visual Recognition Challenge (ILSVRC) with a top-5 error rate of 15.3%, outperforming the second-place model's 26.2% error rate."
      ],
      "metadata": {
        "id": "EGyTF71y3_VY"
      }
    },
    {
      "cell_type": "markdown",
      "source": [
        "## Architecture"
      ],
      "metadata": {
        "id": "DY3aMJrC4CSI"
      }
    },
    {
      "cell_type": "markdown",
      "source": [
        "| Layer Type         | Kernel Size | Stride | Padding | Output Dimensions |\n",
        "| ------------------ | ----------- | ------ | ------- | ----------------- |\n",
        "| Conv1              | 11x11       | 4      | valid   | 55x55x96          |\n",
        "| MaxPool1           | 3x3         | 2      | valid   | 27x27x96          |\n",
        "| Conv2              | 5x5         | 1      | same    | 27x27x256         |\n",
        "| MaxPool2           | 3x3         | 2      | valid   | 13x13x256         |\n",
        "| Conv3              | 3x3         | 1      | same    | 13x13x384         |\n",
        "| Conv4              | 3x3         | 1      | same    | 13x13x256         |\n",
        "| Conv5              | 3x3         | 1      | same    | 13x13x256         |\n",
        "| MaxPool3           | 3x3         | 2      | valid   | 6x6x256           |\n",
        "| FC1                | \\-          | \\-     | \\-      | 4096              |\n",
        "| FC2                | \\-          | \\-     | \\-      | 4096              |\n",
        "| FC3 (Output Layer) | \\-          | \\-     | \\-      | 1000              |"
      ],
      "metadata": {
        "id": "Y389rbOe4EYr"
      }
    },
    {
      "cell_type": "markdown",
      "source": [
        "\n",
        "\n",
        "*   AlexNet consists of 8 layers\n",
        " -   5 convolutional layers\n",
        " -   3 fully connected layers\n",
        "\n",
        "\n"
      ],
      "metadata": {
        "id": "iHIIbhbb4G6M"
      }
    },
    {
      "cell_type": "markdown",
      "source": [
        "**Key Innovations in AlexNet**\n",
        "\n",
        "* ReLU Activation Function:\n",
        " - ReLU (Rectified Linear Unit) was a critical part of AlexNet’s success. Compared to the previously used sigmoid or tanh activations, ReLU provided faster training by mitigating the vanishing gradient problem.\n",
        "\n",
        "* GPU Utilization:\n",
        " - AlexNet was one of the first neural networks to fully utilize GPU acceleration for faster training. The model was trained on two Nvidia GTX 580 GPUs.\n",
        "\n",
        "* Dropout Regularization:\n",
        " - Dropout was used to prevent overfitting by randomly disabling neurons during training. This helped the model generalize better to unseen data.\n",
        "* Data Augmentation:\n",
        " - Techniques like random cropping, flipping, and color perturbations were employed to artificially expand the training dataset and prevent overfitting."
      ],
      "metadata": {
        "id": "ZK1msYEm4IZe"
      }
    },
    {
      "cell_type": "markdown",
      "source": [
        "# Implementation"
      ],
      "metadata": {
        "id": "FOA_lKYi4KQs"
      }
    },
    {
      "cell_type": "code",
      "source": [
        "!pip install torchview"
      ],
      "metadata": {
        "id": "GgZkaF1B7_T3",
        "colab": {
          "base_uri": "https://localhost:8080/"
        },
        "outputId": "b21f5570-19a9-4dc5-c574-ef2fa732e765"
      },
      "execution_count": 78,
      "outputs": [
        {
          "output_type": "stream",
          "name": "stdout",
          "text": [
            "Requirement already satisfied: torchview in /usr/local/lib/python3.10/dist-packages (0.2.6)\n"
          ]
        }
      ]
    },
    {
      "cell_type": "markdown",
      "source": [
        "* calculate output shape of convolution operation"
      ],
      "metadata": {
        "id": "QBb5Vtet5Kjt"
      }
    },
    {
      "cell_type": "markdown",
      "source": [
        "![convop.png](data:image/png;base64,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)\n"
      ],
      "metadata": {
        "id": "LBU2OBE948E5"
      }
    },
    {
      "cell_type": "code",
      "source": [
        "def calculate_output_size(input_size, kernel_size, stride=1, padding=0):\n",
        "    output_size = ((input_size - kernel_size + 2 * padding) // stride) + 1\n",
        "    return output_size"
      ],
      "metadata": {
        "id": "icr6C4hV5QiZ"
      },
      "execution_count": 79,
      "outputs": []
    },
    {
      "cell_type": "code",
      "execution_count": 80,
      "metadata": {
        "id": "ShqVzy1Y3wLn"
      },
      "outputs": [],
      "source": [
        "import torch\n",
        "import torch.nn as nn\n",
        "# from torchview import draw_graph"
      ]
    },
    {
      "cell_type": "code",
      "source": [
        "calculate_output_size(13,3,2,0)"
      ],
      "metadata": {
        "colab": {
          "base_uri": "https://localhost:8080/"
        },
        "id": "X0A8hmq-Cdv0",
        "outputId": "94f9c8b3-1cd5-4f96-b339-6291a34908e2"
      },
      "execution_count": 81,
      "outputs": [
        {
          "output_type": "execute_result",
          "data": {
            "text/plain": [
              "6"
            ]
          },
          "metadata": {},
          "execution_count": 81
        }
      ]
    },
    {
      "cell_type": "code",
      "source": [
        "class AlexNet(nn.Module):\n",
        "    def __init__(self,num_class:int=1000,dropout:float=0.5):\n",
        "        super().__init__()\n",
        "\n",
        "        self.features = nn.Sequential(\n",
        "            # input_shape = (batch,3,227,227)\n",
        "\n",
        "            # first conv layer\n",
        "            nn.Conv2d(in_channels=3,\n",
        "                      out_channels=96,\n",
        "                      kernel_size=11,\n",
        "                      stride=4,\n",
        "                      padding='valid'\n",
        "                      ), # (batch, 96,55,55)\n",
        "\n",
        "\n",
        "            nn.ReLU(inplace=True),\n",
        "            nn.MaxPool2d(kernel_size=3,stride=2), #(batch,96,27,27)\n",
        "\n",
        "\n",
        "\n",
        "            # Second conv layer\n",
        "            nn.Conv2d(in_channels=96,\n",
        "                      out_channels=256,\n",
        "                      kernel_size=3,\n",
        "                      stride=1,\n",
        "                      padding='same'\n",
        "                      ), # (batch, 256,27,27)\n",
        "\n",
        "\n",
        "            nn.ReLU(inplace=True),\n",
        "            nn.MaxPool2d(kernel_size=3,stride=2), #(batch,256,13,13)\n",
        "\n",
        "\n",
        "            # Third Conv layer\n",
        "\n",
        "            nn.Conv2d(in_channels=256,\n",
        "                      out_channels=384,\n",
        "                      kernel_size=3,\n",
        "                      stride=1,\n",
        "                      padding='same'\n",
        "                      ), #(batch,384,13,13)\n",
        "            nn.ReLU(inplace=True),\n",
        "\n",
        "            # forth conv layer\n",
        "            nn.Conv2d(in_channels=384,\n",
        "                      out_channels=256,\n",
        "                      kernel_size=3,\n",
        "                      stride=1,\n",
        "                      padding='same'\n",
        "                      ), # (batch,256,13,13)\n",
        "            nn.ReLU(inplace=True),\n",
        "\n",
        "            # fifth conv layer\n",
        "            nn.Conv2d(in_channels=256,\n",
        "                      out_channels=256,\n",
        "                      kernel_size=3,\n",
        "                      stride=1,\n",
        "                      padding='same'\n",
        "                      ), # (batch,256,13,13)\n",
        "            nn.ReLU(inplace=True),\n",
        "\n",
        "            nn.MaxPool2d(kernel_size=3,\n",
        "                            stride=2) # (batch,256,6,6)\n",
        "        )\n",
        "\n",
        "\n",
        "        self.classifier = nn.Sequential(\n",
        "\n",
        "            nn.Dropout(p=dropout),\n",
        "            nn.Linear(in_features=256*6*6,out_features=4096),\n",
        "            nn.ReLU(inplace=True),\n",
        "\n",
        "            nn.Dropout(p=dropout),\n",
        "            nn.Linear(in_features=4096,out_features=4096),\n",
        "            nn.ReLU(inplace=True),\n",
        "\n",
        "            nn.Linear(in_features=4096,out_features=num_class)\n",
        "        )\n",
        "\n",
        "\n",
        "    def forward(self,x:torch.Tensor) -> torch.Tensor:\n",
        "\n",
        "        x = self.features(x)\n",
        "        x = torch.flatten(x,1)\n",
        "        x = self.classifier(x)\n",
        "        return x\n"
      ],
      "metadata": {
        "id": "HO1eUB85BfgJ"
      },
      "execution_count": 82,
      "outputs": []
    },
    {
      "cell_type": "code",
      "source": [
        "device = torch.device('cuda' if torch.cuda.is_available else 'cpu')\n",
        "model = AlexNet(num_class=2).to(device)"
      ],
      "metadata": {
        "id": "WmKb7_3lGrgl"
      },
      "execution_count": 83,
      "outputs": []
    },
    {
      "cell_type": "code",
      "source": [
        "# draw_graph(model,input_size=(1,3,227,227),expand_nested=True).visual_graph"
      ],
      "metadata": {
        "id": "lOEqVHt-GtxG"
      },
      "execution_count": 84,
      "outputs": []
    },
    {
      "cell_type": "markdown",
      "source": [
        "# Training"
      ],
      "metadata": {
        "id": "pzO9ptfIJCUT"
      }
    },
    {
      "cell_type": "code",
      "source": [
        "import torch.optim as optim\n",
        "from torch.utils.data import DataLoader\n",
        "from torchvision import datasets, transforms\n",
        "import torchvision.transforms as T"
      ],
      "metadata": {
        "id": "bXBCkUu8HQbg"
      },
      "execution_count": 85,
      "outputs": []
    },
    {
      "cell_type": "code",
      "source": [
        "transform_train = T.Compose(\n",
        "    [T.Resize(256),\n",
        "    T.RandomCrop(227),\n",
        "    T.RandomHorizontalFlip(),\n",
        "    T.ToTensor(),\n",
        "    T.Normalize(mean=[0.485, 0.456, 0.406],std=[0.229, 0.224, 0.225])\n",
        "])\n",
        "\n",
        "\n",
        "transform_test = T.Compose(\n",
        "    [T.Resize(256),\n",
        "    T.CenterCrop(227),\n",
        "    T.ToTensor(),\n",
        "    T.Normalize(mean=[0.485, 0.456, 0.406],std=[0.229, 0.224, 0.225])\n",
        "    ]\n",
        "\n",
        ")"
      ],
      "metadata": {
        "id": "UYgA3LKWJeXq"
      },
      "execution_count": 86,
      "outputs": []
    },
    {
      "cell_type": "code",
      "source": [
        "train_dataset = datasets.ImageFolder(root=\"/content/cats_vs_dogs/train\",\n",
        "                                     transform=transform_train)\n",
        "\n",
        "\n",
        "test_dataset = datasets.ImageFolder(root=\"/content/cats_vs_dogs/test\",\n",
        "                                     transform=transform_test)"
      ],
      "metadata": {
        "id": "bMz8rEW6Mnjh"
      },
      "execution_count": 87,
      "outputs": []
    },
    {
      "cell_type": "code",
      "source": [
        "train_loader = DataLoader(dataset=train_dataset,\n",
        "                          batch_size=64,\n",
        "                          shuffle=True)\n",
        "\n",
        "test_loader = DataLoader(dataset=test_dataset,\n",
        "                         batch_size=64,\n",
        "                         shuffle=False)"
      ],
      "metadata": {
        "id": "Cd2wAl66NEWW"
      },
      "execution_count": 88,
      "outputs": []
    },
    {
      "cell_type": "code",
      "source": [
        "criterion = nn.CrossEntropyLoss()\n",
        "optimizer = optim.SGD(model.parameters(),\n",
        "                      lr=0.01,\n",
        "                      momentum=0.9,\n",
        "                      weight_decay=5e-4\n",
        "                      )"
      ],
      "metadata": {
        "id": "W-l2Ivi-NhYH"
      },
      "execution_count": 89,
      "outputs": []
    },
    {
      "cell_type": "code",
      "source": [
        "def train_model(model,train_loader,criterion,optimizer,num_epochs):\n",
        "    model.train\n",
        "    for epoch in range(num_epochs):\n",
        "        running_loss = 0\n",
        "        correct = 0\n",
        "        total = 0\n",
        "\n",
        "        for i, (inputs,labels) in enumerate(train_loader):\n",
        "\n",
        "            inputs,labels = inputs.to(device), labels.to(device)\n",
        "\n",
        "            optimizer.zero_grad()\n",
        "\n",
        "\n",
        "            outputs = model(inputs)\n",
        "            loss = criterion(outputs,labels)\n",
        "            loss.backward()\n",
        "            optimizer.step() # update weights\n",
        "\n",
        "            # accuracy\n",
        "            _, predicted = outputs.max(1)\n",
        "            total += labels.size(0)\n",
        "            correct += predicted.eq(labels).sum().item()\n",
        "\n",
        "            running_loss += loss.item()\n",
        "\n",
        "            # if i % 5 == 4:\n",
        "            #     print(f\"Epoch : {epoch} batch : {i} \")\n",
        "        print(f\"accuracy : {100*(correct / total)}% Loss : {running_loss}\")\n",
        "\n",
        "\n"
      ],
      "metadata": {
        "id": "Dup-VXkxOGYD"
      },
      "execution_count": 93,
      "outputs": []
    },
    {
      "cell_type": "code",
      "source": [
        "def test_model(model, test_loader):\n",
        "    model.eval()\n",
        "    correct = 0\n",
        "    total = 0\n",
        "\n",
        "    with torch.no_grad():\n",
        "        for inputs,labels in test_loader:\n",
        "            inputs, labels = inputs.to(device), labels.to(device)\n",
        "\n",
        "            outputs = model(inputs)\n",
        "            _,predicted = outputs.max(1)\n",
        "            total += labels.size(0)\n",
        "            correct += predicted.eq(labels).sum().item()\n",
        "\n",
        "    print(f\"Test accuracy :  {correct / total}\")"
      ],
      "metadata": {
        "id": "K-xGxp6qQlBU"
      },
      "execution_count": 94,
      "outputs": []
    },
    {
      "cell_type": "code",
      "source": [
        "train_model(model,train_loader,criterion, optimizer, num_epochs=20)"
      ],
      "metadata": {
        "colab": {
          "base_uri": "https://localhost:8080/"
        },
        "id": "YEgEIqgGR3UK",
        "outputId": "970511e5-cef2-4eac-d021-a012fb2687e8"
      },
      "execution_count": 95,
      "outputs": [
        {
          "output_type": "stream",
          "name": "stdout",
          "text": [
            "accuracy : 53.25% Loss : 9.006823301315308\n",
            "accuracy : 49.375% Loss : 9.012220919132233\n",
            "accuracy : 53.87499999999999% Loss : 8.99513965845108\n",
            "accuracy : 60.0% Loss : 8.979552805423737\n",
            "accuracy : 59.875% Loss : 8.96055018901825\n",
            "accuracy : 63.74999999999999% Loss : 8.888239622116089\n",
            "accuracy : 65.875% Loss : 8.634291470050812\n",
            "accuracy : 65.875% Loss : 8.250095903873444\n",
            "accuracy : 69.5% Loss : 7.662282764911652\n",
            "accuracy : 74.25% Loss : 6.821787178516388\n",
            "accuracy : 80.625% Loss : 5.993377447128296\n",
            "accuracy : 81.375% Loss : 5.3738535940647125\n",
            "accuracy : 83.875% Loss : 4.684660106897354\n",
            "accuracy : 82.875% Loss : 5.166582837700844\n",
            "accuracy : 87.25% Loss : 3.7541383504867554\n",
            "accuracy : 90.0% Loss : 3.129494793713093\n",
            "accuracy : 89.875% Loss : 3.4658377841115\n",
            "accuracy : 83.375% Loss : 5.346419170498848\n",
            "accuracy : 87.75% Loss : 3.7385310381650925\n",
            "accuracy : 90.625% Loss : 3.2531066834926605\n"
          ]
        }
      ]
    },
    {
      "cell_type": "code",
      "source": [
        "test_model(model,test_loader)"
      ],
      "metadata": {
        "colab": {
          "base_uri": "https://localhost:8080/"
        },
        "id": "2pwbFAMDW_jc",
        "outputId": "808c0b5b-b225-4923-f200-dfb1e43870de"
      },
      "execution_count": 96,
      "outputs": [
        {
          "output_type": "stream",
          "name": "stdout",
          "text": [
            "Test accuracy :  0.93\n"
          ]
        }
      ]
    },
    {
      "cell_type": "code",
      "source": [],
      "metadata": {
        "id": "i1EYvGKgaukc"
      },
      "execution_count": null,
      "outputs": []
    }
  ]
}